{
 "cells": [
  {
   "cell_type": "markdown",
   "metadata": {},
   "source": [
    "## Day Type Identification of Algerian Electricity Load\n",
    "\n",
    "**Introduction:**\n",
    "\n",
    "This Jupyter notebook explores the identification of different day types based on electricity load patterns in an Algerian city. We will analyze a dataset containing hourly recordings of Maximum Power Demand (PMA) and Temperature for two years, from January 1st, 2016, to December 31st, 2017.\n",
    "\n",
    "**Data Source:**\n",
    "\n",
    "The dataset used in this analysis is stored in a file named `pma.xlsx`. It contains three columns:\n",
    "\n",
    "* `time`: Date and time (including hour)\n",
    "* `pma`: Maximum Power Demand (MW)\n",
    "* `tmp`: Temperature (°C)\n",
    "\n",
    "**Software and Tools:**\n",
    "\n",
    "This project will utilize Python libraries such as:\n",
    "\n",
    "* `pandas` for data manipulation and analysis\n",
    "* `numpy` for scientific computing\n",
    "* `matplotlib` and `seaborn` for data visualization\n",
    "* `scikit-learn` for machine learning and clustering algorithms\n",
    "\n",
    "**Let's begin by importing the necessary libraries and reading the data into a Pandas dataframe.**\n"
   ]
  },
  {
   "cell_type": "code",
   "execution_count": 1,
   "metadata": {},
   "outputs": [],
   "source": [
    "import pandas as pd\n",
    "import numpy as np\n",
    "import matplotlib.pyplot as plt\n",
    "import seaborn as sns\n",
    "from sklearn.cluster import KMeans, AgglomerativeClustering"
   ]
  },
  {
   "cell_type": "code",
   "execution_count": 8,
   "metadata": {},
   "outputs": [
    {
     "data": {
      "text/html": [
       "<div>\n",
       "<style scoped>\n",
       "    .dataframe tbody tr th:only-of-type {\n",
       "        vertical-align: middle;\n",
       "    }\n",
       "\n",
       "    .dataframe tbody tr th {\n",
       "        vertical-align: top;\n",
       "    }\n",
       "\n",
       "    .dataframe thead th {\n",
       "        text-align: right;\n",
       "    }\n",
       "</style>\n",
       "<table border=\"1\" class=\"dataframe\">\n",
       "  <thead>\n",
       "    <tr style=\"text-align: right;\">\n",
       "      <th></th>\n",
       "      <th>time</th>\n",
       "      <th>pma</th>\n",
       "      <th>tmp</th>\n",
       "    </tr>\n",
       "  </thead>\n",
       "  <tbody>\n",
       "    <tr>\n",
       "      <th>0</th>\n",
       "      <td>2016-01-01 01:00:00</td>\n",
       "      <td>982.529002</td>\n",
       "      <td>6.405644</td>\n",
       "    </tr>\n",
       "    <tr>\n",
       "      <th>1</th>\n",
       "      <td>2016-01-01 02:00:00</td>\n",
       "      <td>983.240592</td>\n",
       "      <td>5.932445</td>\n",
       "    </tr>\n",
       "    <tr>\n",
       "      <th>2</th>\n",
       "      <td>2016-01-01 03:00:00</td>\n",
       "      <td>1002.780354</td>\n",
       "      <td>5.503807</td>\n",
       "    </tr>\n",
       "    <tr>\n",
       "      <th>3</th>\n",
       "      <td>2016-01-01 04:00:00</td>\n",
       "      <td>1011.657004</td>\n",
       "      <td>5.112056</td>\n",
       "    </tr>\n",
       "    <tr>\n",
       "      <th>4</th>\n",
       "      <td>2016-01-01 05:00:00</td>\n",
       "      <td>999.137230</td>\n",
       "      <td>4.751342</td>\n",
       "    </tr>\n",
       "  </tbody>\n",
       "</table>\n",
       "</div>"
      ],
      "text/plain": [
       "                 time          pma       tmp\n",
       "0 2016-01-01 01:00:00   982.529002  6.405644\n",
       "1 2016-01-01 02:00:00   983.240592  5.932445\n",
       "2 2016-01-01 03:00:00  1002.780354  5.503807\n",
       "3 2016-01-01 04:00:00  1011.657004  5.112056\n",
       "4 2016-01-01 05:00:00   999.137230  4.751342"
      ]
     },
     "execution_count": 8,
     "metadata": {},
     "output_type": "execute_result"
    }
   ],
   "source": [
    "data_path = \"pma.xlsx\"\n",
    "\n",
    "df = pd.read_excel(data_path, skiprows=1)\n",
    "\n",
    "df.columns = [\"time\", \"pma\", \"tmp\"]\n",
    "\n",
    "df['time'] = pd.to_datetime(df['time'])\n",
    "\n",
    "df.head()"
   ]
  }
 ],
 "metadata": {
  "kernelspec": {
   "display_name": "base",
   "language": "python",
   "name": "python3"
  },
  "language_info": {
   "codemirror_mode": {
    "name": "ipython",
    "version": 3
   },
   "file_extension": ".py",
   "mimetype": "text/x-python",
   "name": "python",
   "nbconvert_exporter": "python",
   "pygments_lexer": "ipython3",
   "version": "3.11.5"
  }
 },
 "nbformat": 4,
 "nbformat_minor": 2
}
