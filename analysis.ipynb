{
 "cells": [
  {
   "cell_type": "code",
   "execution_count": null,
   "metadata": {},
   "outputs": [],
   "source": [
    "import numpy as np \n",
    "import matplotlib.pyplot as plt \n",
    "import pandas as pd\n",
    "import seaborn as sns"
   ]
  },
  {
   "cell_type": "code",
   "execution_count": null,
   "metadata": {},
   "outputs": [],
   "source": [
    "plt.style.use('ggplot')\n",
    "plt.rcParams['font.family'] = 'sans-serif' \n",
    "plt.rcParams['font.serif'] = 'Ubuntu' \n",
    "plt.rcParams['font.monospace'] = 'Ubuntu Mono' \n",
    "plt.rcParams['font.size'] = 14 \n",
    "plt.rcParams['axes.labelsize'] = 12 \n",
    "plt.rcParams['axes.labelweight'] = 'bold' \n",
    "plt.rcParams['axes.titlesize'] = 12 \n",
    "plt.rcParams['xtick.labelsize'] = 12 \n",
    "plt.rcParams['ytick.labelsize'] = 12 \n",
    "plt.rcParams['legend.fontsize'] = 12 \n",
    "plt.rcParams['figure.titlesize'] = 12 \n",
    "plt.rcParams['image.cmap'] = 'jet' \n",
    "plt.rcParams['image.interpolation'] = 'none' \n",
    "plt.rcParams['figure.figsize'] = (15, 5) \n",
    "plt.rcParams['axes.grid']=True\n",
    "plt.rcParams['lines.linewidth'] = 2 \n",
    "plt.rcParams['lines.markersize'] = 8\n",
    "colors = ['xkcd:pale orange', 'xkcd:sea blue', 'xkcd:pale red', 'xkcd:sage green', 'xkcd:terra cotta', 'xkcd:dull purple', 'xkcd:teal', 'xkcd: goldenrod', 'xkcd:cadet blue',\n",
    "'xkcd:scarlet']"
   ]
  },
  {
   "cell_type": "code",
   "execution_count": null,
   "metadata": {},
   "outputs": [],
   "source": [
    "ts_data = pd.read_excel(\"pma.xlsx\")\n",
    "ts_data = ts_data.reset_index().drop(\"index\", axis=1)\n",
    "ts_data[\"time\"] = pd.to_datetime(ts_data[\"time\"])\n",
    "ts_data = ts_data.set_index(\"time\")\n",
    "ts_data.head()"
   ]
  },
  {
   "cell_type": "code",
   "execution_count": null,
   "metadata": {},
   "outputs": [],
   "source": [
    "plt.plot(ts_data.index, ts_data[\"pma\"])"
   ]
  },
  {
   "cell_type": "code",
   "execution_count": null,
   "metadata": {},
   "outputs": [],
   "source": [
    "seasons = [1, 2, 3, 4]\n",
    "\n",
    "def map_season(month, day):\n",
    "    if (month == 12 and day >= 21) or (month == 1) or (month == 2) or (month == 3 and day < 21):\n",
    "        return seasons[0]  # Winter\n",
    "    elif (month == 3 and day >= 21) or (month == 4) or (month == 5) or (month == 6 and day < 21):\n",
    "        return seasons[1]  # Spring\n",
    "    elif (month == 6 and day >= 21) or (month == 7) or (month == 8) or (month == 9 and day < 21):\n",
    "        return seasons[2]  # Summer\n",
    "    else:\n",
    "        return seasons[3]  # Fall\n",
    "\n",
    "\n",
    "def is_special_day(date):\n",
    "    special_days = ['2016-07-06', '2017-06-25', '2016-09-12', '2017-09-01']\n",
    "    special_days = pd.to_datetime(special_days).date\n",
    "\n",
    "    return int(date in special_days)\n",
    "\n",
    "\n",
    "def create_features(df):\n",
    "    \"\"\"\n",
    "    Create time series features based on the time series index.\n",
    "    \"\"\"\n",
    "    df = df.copy()\n",
    "    df[\"date\"] = df.index.date\n",
    "    df['hour'] = df.index.hour\n",
    "    df['dayofweek'] = df.index.dayofweek\n",
    "    df['quarter'] = df.index.quarter\n",
    "    df['month'] = df.index.month\n",
    "    df['year'] = df.index.year\n",
    "    df['dayofyear'] = df.index.dayofyear\n",
    "    df['dayofmonth'] = df.index.day\n",
    "    df[\"is_special_day\"] = df.apply(lambda row: is_special_day(row.date), axis=1)\n",
    "    df['season'] = df.apply(lambda row: map_season(row.month, row.dayofmonth), axis=1)\n",
    "    df['weekofyear'] = df.index.isocalendar().week\n",
    "\n",
    "    df.drop(columns=[\"date\"], inplace=True)\n",
    "    return df\n",
    "\n",
    "df = create_features(ts_data)\n",
    "\n",
    "df"
   ]
  },
  {
   "cell_type": "code",
   "execution_count": null,
   "metadata": {},
   "outputs": [],
   "source": [
    "sns.boxplot(data=df, x='hour', y='pma')"
   ]
  },
  {
   "cell_type": "code",
   "execution_count": null,
   "metadata": {},
   "outputs": [],
   "source": [
    "sns.boxplot(data=df, x='month', y='pma')"
   ]
  },
  {
   "cell_type": "code",
   "execution_count": null,
   "metadata": {},
   "outputs": [],
   "source": [
    "sns.boxplot(data=df, x='season', y='pma')"
   ]
  },
  {
   "cell_type": "code",
   "execution_count": null,
   "metadata": {},
   "outputs": [],
   "source": [
    "sns.boxplot(data=df, x='is_special_day', y='pma')"
   ]
  },
  {
   "cell_type": "markdown",
   "metadata": {},
   "source": [
    "# Model creation"
   ]
  },
  {
   "cell_type": "code",
   "execution_count": null,
   "metadata": {},
   "outputs": [],
   "source": [
    "import xgboost as xgb\n",
    "from sklearn.metrics import mean_squared_error\n",
    "\n",
    "FEATURES = ['dayofyear', 'hour', 'dayofweek', 'quarter', 'month', 'year', \"season\", \"is_special_day\", \"tmp\"]\n",
    "TARGET = 'pma'\n",
    "\n",
    "split_date = \"01-06-2017\"\n",
    "train = df.loc[df.index < split_date]\n",
    "test = df.loc[df.index >= split_date]\n",
    "\n",
    "X_train = train[FEATURES]\n",
    "y_train = train[TARGET]\n",
    "\n",
    "X_test = test[FEATURES]\n",
    "y_test = test[TARGET]\n",
    "\n",
    "reg = xgb.XGBRegressor(base_score=0.5, booster='gbtree',\n",
    "                       n_estimators=5000,\n",
    "                       early_stopping_rounds=50,\n",
    "                       objective='reg:linear',\n",
    "                       max_depth=3,\n",
    "                       learning_rate=0.01)\n",
    "reg.fit(X_train, y_train,\n",
    "        eval_set=[(X_train, y_train), (X_test, y_test)],\n",
    "        verbose=100)"
   ]
  },
  {
   "cell_type": "code",
   "execution_count": null,
   "metadata": {},
   "outputs": [],
   "source": [
    "fi = pd.DataFrame(data=reg.feature_importances_,\n",
    "             index=reg.feature_names_in_,\n",
    "             columns=['importance'])\n",
    "fi.sort_values('importance').plot(kind='barh', title='Feature Importance')\n",
    "plt.show()"
   ]
  },
  {
   "cell_type": "code",
   "execution_count": null,
   "metadata": {},
   "outputs": [],
   "source": [
    "test['prediction'] = reg.predict(X_test)\n",
    "df = df.merge(test[['prediction']], how='left', left_index=True, right_index=True)\n",
    "ax = df[['pma']].plot(figsize=(15, 5))\n",
    "test['prediction'].plot(ax=ax, style='.')\n",
    "plt.legend(['Truth Data', 'Predictions'])\n",
    "ax.set_title('Raw Data and Predictions')\n",
    "plt.show()"
   ]
  },
  {
   "cell_type": "code",
   "execution_count": null,
   "metadata": {},
   "outputs": [],
   "source": [
    "score = np.sqrt(mean_squared_error(test['pma'], test['prediction']))\n",
    "print(f'RMSE Score on Test set: {score:0.2f}')"
   ]
  },
  {
   "cell_type": "code",
   "execution_count": null,
   "metadata": {},
   "outputs": [],
   "source": [
    "test['error'] = np.abs(test[TARGET] - test['prediction'])\n",
    "test['date'] = test.index.date\n",
    "test.groupby(['date'])['error'].mean().sort_values(ascending=False).head(5)"
   ]
  },
  {
   "cell_type": "code",
   "execution_count": null,
   "metadata": {},
   "outputs": [],
   "source": []
  }
 ],
 "metadata": {
  "kernelspec": {
   "display_name": "DM_ENV",
   "language": "python",
   "name": "python3"
  },
  "language_info": {
   "codemirror_mode": {
    "name": "ipython",
    "version": 3
   },
   "file_extension": ".py",
   "mimetype": "text/x-python",
   "name": "python",
   "nbconvert_exporter": "python",
   "pygments_lexer": "ipython3",
   "version": "3.11.6"
  }
 },
 "nbformat": 4,
 "nbformat_minor": 2
}
